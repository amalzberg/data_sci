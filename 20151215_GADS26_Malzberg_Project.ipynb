{
 "cells": [
  {
   "cell_type": "markdown",
   "metadata": {},
   "source": [
    "# 1. The Problem"
   ]
  },
  {
   "cell_type": "markdown",
   "metadata": {},
   "source": [
    "ClassPass sells a recurring monthly subscriptoin that acts like a gym membership. ClassPass's memberes can use its website and mobile app to book unlimited boutqiue fitness studios in 34 cities across the globe. \n",
    "\n",
    "For a subscription businesse, it is extremly important to decrease the percent of users that cancel each month. Users that cancel are called churners in subscription lingo. It is important to minimize churn so revenue grows each month as new users sign up (i.e. if the same amount of people cancel and sign-up for ClassPass within a month the business will not have grown month over month). If the number of cancels exceeds the number of new user adds within a month the business will be shrinking month over month.\n",
    "\n",
    "It would be beneficial to flag users that are at risk of churning and send them targeted marketing materials (personal attention from a customer service agent, discounts for future months, special booking privileges, etc.). These targeted message would hopefully convince the user to stay on the platform longer.\n",
    "\n",
    "My goal is to predict which users are at risk for churning before the end of their first month. It is is beneficial to predict churn earlier in a users first month to give ClassPass's markeitng more time to convince users not to cancel.\n"
   ]
  },
  {
   "cell_type": "markdown",
   "metadata": {},
   "source": [
    "# 2. EDA"
   ]
  },
  {
   "cell_type": "markdown",
   "metadata": {},
   "source": [
    "For this project I generated a dataset of ClassPass subscriber aquisitions that contains the following features: \n",
    "* City\n",
    "* Paid or unpaid source\n",
    "* Promo or non-promo offer\n",
    "* \\# of classes Attended in the 7 days\n",
    "* \\# of classes attended in the 14 days \n",
    "* \\# of classes attended in the 21 days \n",
    "* \\# of tier-1 classes attnded in the 7 week \n",
    "* \\# of tier-1 classes attnded in the 14 days \n",
    "* \\# of tier-1 classes attnded in the 21 days "
   ]
  },
  {
   "cell_type": "markdown",
   "metadata": {},
   "source": [
    "To preprocess the data I manipulated my features to create the following:\n",
    "* k-1 boolean features for each city\n",
    "* is_promo (bool)\n",
    "* is_paid (bool)\n",
    "* \\# of classes attended in the first week \n",
    "* \\# of classes attended in the second week\n",
    "* \\# of classes attended in the third week\n",
    "* \\# of tier 1 classes attended in the first week\n",
    "* \\# of tier 1 classes attended in the second week\n",
    "* \\# of tier 1 classes attended in the third week\n",
    "\n",
    "My data set has ~165K rows and 42 features. Of the total data set ~15% have churned. This indicates I have unbalanced labels. "
   ]
  },
  {
   "cell_type": "code",
   "execution_count": 33,
   "metadata": {
    "collapsed": false
   },
   "outputs": [
    {
     "data": {
      "text/plain": [
       "(165319, 42)"
      ]
     },
     "execution_count": 33,
     "metadata": {},
     "output_type": "execute_result"
    }
   ],
   "source": [
    "d, df1 = load_data()\n",
    "df1.shape"
   ]
  },
  {
   "cell_type": "code",
   "execution_count": 27,
   "metadata": {
    "collapsed": false
   },
   "outputs": [
    {
     "name": "stdout",
     "output_type": "stream",
     "text": [
      "percent churned:  15.0412233319 %\n"
     ]
    }
   ],
   "source": [
    "print('percent churned: ', df1.is_churned.sum()/df1.shape[0]*100, '%')"
   ]
  },
  {
   "cell_type": "markdown",
   "metadata": {},
   "source": [
    "The median number of classes taken for users that remain on the platform after 1 month is higher than the users that churn after 1 month. Below is a box plot comparison of all users thrid week of classes split by churners and on churners."
   ]
  },
  {
   "cell_type": "code",
   "execution_count": 28,
   "metadata": {
    "collapsed": false
   },
   "outputs": [
    {
     "data": {
      "image/png": "[encoded data removed]",
      "text/plain": [
       "<matplotlib.figure.Figure at 0x1087b8cc0>"
      ]
     },
     "metadata": {},
     "output_type": "display_data"
    }
   ],
   "source": [
    "ax = sns.boxplot(x='is_churned', y='third_week_classes', data=df1)"
   ]
  },
  {
   "cell_type": "code",
   "execution_count": 36,
   "metadata": {
    "collapsed": false
   },
   "outputs": [],
   "source": [
    "# calculate % of tier 1 classes in a users first month\n",
    "df1['total_classes_attended'] = df1['first_week_classes'] + df1['second_week_classes'] + df1['third_week_classes']\n",
    "df1['total_tier1_classes'] = df1['first_week_tier_1_classes'] + df1['second_week_tier_1_classes'] + df1['third_week_tier_1_classes']\n",
    "df1['percent_tier_1'] = df1.total_tier1_classes/df1.total_classes_attended\n"
   ]
  },
  {
   "cell_type": "markdown",
   "metadata": {},
   "source": [
    "The median number of premium, or Tier 1, studios that a non churned user attends is higher than the median number of tier 1 studios that a churned user attends."
   ]
  },
  {
   "cell_type": "code",
   "execution_count": 39,
   "metadata": {
    "collapsed": false
   },
   "outputs": [
    {
     "data": {
      "image/png": "[encoded data removed]",
      "text/plain": [
       "<matplotlib.figure.Figure at 0x1095e4ba8>"
      ]
     },
     "metadata": {},
     "output_type": "display_data"
    }
   ],
   "source": [
    "ax = sns.boxplot(x='is_churned', y='total_tier1_classes', data=df1)"
   ]
  },
  {
   "cell_type": "markdown",
   "metadata": {},
   "source": [
    "# 3. Model Tuning "
   ]
  },
  {
   "cell_type": "markdown",
   "metadata": {},
   "source": [
    "To select the appropriate hyper parameters for each model I first split the data into two folds in a 8:2 ratio. I used 20% of the data in a gridsearch to determine the best hyperparameters for my model."
   ]
  },
  {
   "cell_type": "code",
   "execution_count": 40,
   "metadata": {
    "collapsed": false
   },
   "outputs": [
    {
     "name": "stdout",
     "output_type": "stream",
     "text": [
      "\n",
      "==========\n",
      " GridSearchCV(cv=3, error_score='raise',\n",
      "       estimator=LogisticRegression(C=1.0, class_weight=None, dual=False, fit_intercept=True,\n",
      "          intercept_scaling=1, max_iter=100, multi_class='ovr',\n",
      "          penalty='l2', random_state=None, solver='liblinear', tol=0.0001,\n",
      "          verbose=0),\n",
      "       fit_params={}, iid=True, loss_func=None, n_jobs=1,\n",
      "       param_grid={'C': (0.01, 0.1, 1)}, pre_dispatch='2*n_jobs',\n",
      "       refit=True, score_func=None, scoring='recall', verbose=0)\n",
      "best params\n",
      " {'C': 1}\n",
      "best_score\n",
      " 0.000199493414871\n",
      "\n",
      "==========\n",
      " GridSearchCV(cv=3, error_score='raise',\n",
      "       estimator=RandomForestClassifier(bootstrap=True, class_weight=None, criterion='gini',\n",
      "            max_depth=None, max_features='auto', max_leaf_nodes=None,\n",
      "            min_samples_leaf=1, min_samples_split=2,\n",
      "            min_weight_fraction_leaf=0.0, n_estimators=10, n_jobs=1,\n",
      "            oob_score=False, random_state=None, verbose=0,\n",
      "            warm_start=False),\n",
      "       fit_params={}, iid=True, loss_func=None, n_jobs=1,\n",
      "       param_grid={'max_features': ['sqrt', 'log2'], 'n_estimators': [5, 10, 50, 100], 'max_depth': (5, 10, 50, 100), 'n_jobs': [-1]},\n",
      "       pre_dispatch='2*n_jobs', refit=True, score_func=None,\n",
      "       scoring='recall', verbose=0)\n",
      "best params\n",
      " {'max_features': 'log2', 'n_estimators': 5, 'max_depth': 50, 'n_jobs': -1}\n",
      "best_score\n",
      " 0.0730395211386\n",
      "\n",
      "==========\n",
      " GridSearchCV(cv=3, error_score='raise',\n",
      "       estimator=GradientBoostingClassifier(init=None, learning_rate=0.1, loss='deviance',\n",
      "              max_depth=3, max_features=None, max_leaf_nodes=None,\n",
      "              min_samples_leaf=1, min_samples_split=2,\n",
      "              min_weight_fraction_leaf=0.0, n_estimators=100,\n",
      "              random_state=None, subsample=1.0, verbose=0,\n",
      "              warm_start=False),\n",
      "       fit_params={}, iid=True, loss_func=None, n_jobs=1,\n",
      "       param_grid={'n_estimators': [100, 500, 1000]},\n",
      "       pre_dispatch='2*n_jobs', refit=True, score_func=None,\n",
      "       scoring='recall', verbose=0)\n",
      "best params\n",
      " {'n_estimators': 1000}\n",
      "best_score\n",
      " 0.0113742663963\n"
     ]
    }
   ],
   "source": [
    "X_train, X_test, y_train, y_test = split_data(d)\n",
    "estimators = tune_model(X_test, y_test)"
   ]
  },
  {
   "cell_type": "markdown",
   "metadata": {},
   "source": [
    "# 4. Model Scoring"
   ]
  },
  {
   "cell_type": "markdown",
   "metadata": {},
   "source": [
    "To score the model, I used the remaining 80% of the data and calculated accuracy, AUC-ROC, and recall using cross validation. ~15% of the records are positive for the target category (churn). \n",
    "\n",
    "Noting that my labels are imbalanced I focused on the recall and AUC-ROC metric for scoring. In addition, I am most interested in recall given the business application of this model (correctly predicitng whol will churn)."
   ]
  },
  {
   "cell_type": "code",
   "execution_count": 41,
   "metadata": {
    "collapsed": false
   },
   "outputs": [
    {
     "name": "stdout",
     "output_type": "stream",
     "text": [
      "\n",
      "==========\n",
      " LogisticRegression(C=1, class_weight=None, dual=False, fit_intercept=True,\n",
      "          intercept_scaling=1, max_iter=100, multi_class='ovr',\n",
      "          penalty='l2', random_state=None, solver='liblinear', tol=0.0001,\n",
      "          verbose=0)\n",
      "\n",
      "cv results\n",
      " [ 0.84994896  0.84991116  0.84987335  0.84994896  0.84983554]\n",
      "\n",
      "mean cv accuracy = 0.849903595327\n",
      "std cv accuracy =  4.40887066262e-05\n",
      "\n",
      "cv scores ROC\n",
      " [ 0.6765952   0.66801801  0.67697396  0.67231286  0.68210751]\n",
      "\n",
      "mean cv ROC = 0.675201508759\n",
      "std cv ROC = 0.00474812891527\n",
      "\n",
      "cv scores Recall\n",
      " [ 0.00050365  0.00050365  0.00075548  0.0010073   0.00025183]\n",
      "\n",
      "mean cv Recall = 0.000604381767817\n",
      "std cv Recall = 0.00025681286898\n",
      "\n",
      "==========\n",
      " RandomForestClassifier(bootstrap=True, class_weight=None, criterion='gini',\n",
      "            max_depth=50, max_features='log2', max_leaf_nodes=None,\n",
      "            min_samples_leaf=1, min_samples_split=2,\n",
      "            min_weight_fraction_leaf=0.0, n_estimators=5, n_jobs=-1,\n",
      "            oob_score=False, random_state=None, verbose=0,\n",
      "            warm_start=False)\n",
      "\n",
      "cv results\n",
      " [ 0.82843749  0.82957166  0.83032778  0.82817285  0.8298363 ]\n",
      "\n",
      "mean cv accuracy = 0.829269214774\n",
      "std cv accuracy =  0.000827937381888\n",
      "\n",
      "cv scores ROC\n",
      " [ 0.60730989  0.61028514  0.61632199  0.60320581  0.61535511]\n",
      "\n",
      "mean cv ROC = 0.610495588121\n",
      "std cv ROC = 0.00491723028202\n",
      "\n",
      "cv scores Recall\n",
      " [ 0.04155125  0.04683959  0.04633594  0.04482498  0.04004029]\n",
      "\n",
      "mean cv Recall = 0.0439184084613\n",
      "std cv Recall = 0.00267741805288\n",
      "\n",
      "==========\n",
      " GradientBoostingClassifier(init=None, learning_rate=0.1, loss='deviance',\n",
      "              max_depth=3, max_features=None, max_leaf_nodes=None,\n",
      "              min_samples_leaf=1, min_samples_split=2,\n",
      "              min_weight_fraction_leaf=0.0, n_estimators=1000,\n",
      "              random_state=None, subsample=1.0, verbose=0,\n",
      "              warm_start=False)\n",
      "\n",
      "cv results\n",
      " [ 0.8495331   0.8495709   0.84919285  0.84934407  0.84934407]\n",
      "\n",
      "mean cv accuracy = 0.849396998223\n",
      "std cv accuracy =  0.000138598183659\n",
      "\n",
      "cv scores ROC\n",
      " [ 0.67760933  0.66953217  0.67728003  0.67383546  0.68649492]\n",
      "\n",
      "mean cv ROC = 0.676950380248\n",
      "std cv ROC = 0.00559237952337\n",
      "\n",
      "cv scores Recall\n",
      " [ 0.00478469  0.00352556  0.00428104  0.00377739  0.00377739]\n",
      "\n",
      "mean cv Recall = 0.00402921178544\n",
      "std cv Recall = 0.0004504795724\n"
     ]
    }
   ],
   "source": [
    "score_model(X_train, y_train, estimators)"
   ]
  },
  {
   "cell_type": "markdown",
   "metadata": {},
   "source": [
    "# 5. Feature Importance "
   ]
  },
  {
   "cell_type": "markdown",
   "metadata": {},
   "source": [
    "I ran a feature importance evaluation to see if week 1 or week 2 classes had a high enough importance to run the model at an earlier timepoint (without any of the later data).\n",
    "\n",
    "Althought the features for the number of classes attended each week and the number of tier 1 classes attended each week were of the highet importance, the total importance for the features at week 1 or week 2 is not high enough to run the model early."
   ]
  },
  {
   "cell_type": "code",
   "execution_count": 43,
   "metadata": {
    "collapsed": false
   },
   "outputs": [
    {
     "name": "stdout",
     "output_type": "stream",
     "text": [
      "\n",
      "==========\n",
      " RandomForestClassifier(bootstrap=True, class_weight=None, criterion='gini',\n",
      "            max_depth=50, max_features='log2', max_leaf_nodes=None,\n",
      "            min_samples_leaf=1, min_samples_split=2,\n",
      "            min_weight_fraction_leaf=0.0, n_estimators=5, n_jobs=-1,\n",
      "            oob_score=False, random_state=None, verbose=0,\n",
      "            warm_start=False)\n",
      "\n",
      "feature importnace\n",
      "\n",
      "feature               importance\n",
      "Austin                 0.00688680856727\n",
      "Baltimore                 0.00211842843876\n",
      "Boston                 0.0106141513063\n",
      "Charlotte                 0.00413292288839\n",
      "Chicago                 0.0101754606653\n",
      "Columbus                 0.00308401653817\n",
      "Dallas/Fort Worth                 0.00812364761872\n",
      "Denver                 0.00710896127189\n",
      "Houston                 0.00595960866721\n",
      "Kansas City                 0.00482254529347\n",
      "Las Vegas                 0.00224488380897\n",
      "London                 0.00241671644218\n",
      "Los Angeles/Orange County                 0.00792439926335\n",
      "Melbourne                 0.000280576928247\n",
      "Miami                 0.00755632343543\n",
      "Minneapolis/St. Paul                 0.00457351350825\n",
      "Nashville                 0.00678664469777\n",
      "New York                 0.0138848196996\n",
      "Orlando                 0.00188303054143\n",
      "Philadelphia                 0.00732945272834\n",
      "Phoenix                 0.00195953705617\n",
      "Portland                 0.00458590832057\n",
      "Raleigh                 0.00371569782034\n",
      "Sacramento                 0.00261285486794\n",
      "San Diego                 0.00485451122556\n",
      "San Francisco                 0.0117578631374\n",
      "Seattle                 0.00986811251851\n",
      "St. Louis                 0.00293075218749\n",
      "Sydney                 0.00144816470932\n",
      "Tampa                 0.00215695758968\n",
      "Toronto                 0.00733124176305\n",
      "Vancouver                 0.00589565847411\n",
      "Washington, DC                 0.00972720077122\n",
      "is_promo                 0.0\n",
      "is_paid                 0.0524437272912\n",
      "first_week_classes                 0.126508650086\n",
      "second_week_classes                 0.138929170673\n",
      "third_week_classes                 0.216745299174\n",
      "first_week_tier_1_classes                 0.066207838105\n",
      "second_week_tier_1_classes                 0.0798277362755\n",
      "third_week_tier_1_classes                 0.132586205644\n",
      "\n",
      "==========\n",
      " GradientBoostingClassifier(init=None, learning_rate=0.1, loss='deviance',\n",
      "              max_depth=3, max_features=None, max_leaf_nodes=None,\n",
      "              min_samples_leaf=1, min_samples_split=2,\n",
      "              min_weight_fraction_leaf=0.0, n_estimators=1000,\n",
      "              random_state=None, subsample=1.0, verbose=0,\n",
      "              warm_start=False)\n",
      "\n",
      "feature importnace\n",
      "\n",
      "feature               importance\n",
      "Austin                 0.00202093264097\n",
      "Baltimore                 0.00751110304038\n",
      "Boston                 0.00619722765111\n",
      "Charlotte                 0.00257228975006\n",
      "Chicago                 0.0107741606108\n",
      "Columbus                 0.00250983551187\n",
      "Dallas/Fort Worth                 0.00547795840876\n",
      "Denver                 0.00349776279573\n",
      "Houston                 0.00333801123823\n",
      "Kansas City                 0.00357149363027\n",
      "Las Vegas                 0.000984061175556\n",
      "London                 0.00560327844247\n",
      "Los Angeles/Orange County                 0.00864831101485\n",
      "Melbourne                 0.00260847606862\n",
      "Miami                 0.00684733887261\n",
      "Minneapolis/St. Paul                 0.00602423750503\n",
      "Nashville                 0.00251080555158\n",
      "New York                 0.00942681525565\n",
      "Orlando                 0.00178428062101\n",
      "Philadelphia                 0.00285721980128\n",
      "Phoenix                 0.00467072768509\n",
      "Portland                 0.00516042884262\n",
      "Raleigh                 0.00358683768464\n",
      "Sacramento                 0.00277324095685\n",
      "San Diego                 0.00733563402778\n",
      "San Francisco                 0.0110947564995\n",
      "Seattle                 0.0112495419283\n",
      "St. Louis                 0.00473534744843\n",
      "Sydney                 0.00448984539135\n",
      "Tampa                 0.0015990035221\n",
      "Toronto                 0.00439762649078\n",
      "Vancouver                 0.00882599034149\n",
      "Washington, DC                 0.00616660101583\n",
      "is_promo                 0.0\n",
      "is_paid                 0.0343577658454\n",
      "first_week_classes                 0.140513776558\n",
      "second_week_classes                 0.158943243387\n",
      "third_week_classes                 0.222300436058\n",
      "first_week_tier_1_classes                 0.0708732198911\n",
      "second_week_tier_1_classes                 0.0939378444166\n",
      "third_week_tier_1_classes                 0.108222532423\n"
     ]
    }
   ],
   "source": [
    "fit_model(d['feature'], d['labels'], estimators)"
   ]
  },
  {
   "cell_type": "markdown",
   "metadata": {},
   "source": [
    "# 6. Next Steps"
   ]
  },
  {
   "cell_type": "markdown",
   "metadata": {},
   "source": [
    "In its current state my recall score is very low. To enhance my recall, I can have my model output the probability of churning instead of a boolean. From there I can lower the threshold value that will classify someone to be at risk for churning. \n",
    "\n",
    "In addition, ClassPass works to mature its beahavioral data collection capabilites, it will be useful to layer additinoal features such as:\n",
    "* Days since last login \n",
    "* Number of logins \n",
    "* Is mobile app downloaded?\n",
    "* Number of reservations made on the app\n",
    "* Number of resrvation cancellations \n",
    "* Number of missed classes "
   ]
  },
  {
   "cell_type": "markdown",
   "metadata": {},
   "source": [
    "# 7. Implementation"
   ]
  },
  {
   "cell_type": "code",
   "execution_count": 15,
   "metadata": {
    "collapsed": true
   },
   "outputs": [],
   "source": [
    "import numpy as np\n",
    "from sklearn.ensemble import RandomForestClassifier as RFC\n",
    "from sklearn.ensemble import GradientBoostingClassifier as GBC\n",
    "import sklearn.cross_validation as cv\n",
    "from sklearn.linear_model import LogisticRegression\n",
    "import sklearn.grid_search as gs\n",
    "import seaborn as sns\n",
    "%matplotlib inline\n",
    "\n",
    "DATA  = '~/Desktop/project1.csv'\n",
    "COLS = ['user_id', 'msa_id', 'city_name', 'user_source', 'is_promo_user', \n",
    "'is_churned_after_first_period', 'classes_attended_in_first_7_days', \n",
    "'classes_attended_in_first_14_days', 'classes_attended_in_first_21_days', \n",
    "'tier_1_classes_attended_in_first_7_days', 'tier_1_classes_attended_in_first_14_days', \n",
    "'tier_1_classes_attended_in_first_21_days']\n",
    "N_FOLDS = 5\n",
    "\n",
    "\n",
    "\n",
    "def load_data(input_file=DATA):\n",
    "\n",
    "\tdf0 = pd.read_csv(DATA, sep = ',', header=0, names = COLS)\n",
    "\t\n",
    "\t#### Create dummy variables for city variable \n",
    "\tdf1 = pd.concat(([df0, pd.get_dummies(df0['city_name'])]), axis=1)\n",
    "\t\n",
    "\t### Create boolean for is_promo, is_paid, is_churned\n",
    "\tdf1['is_churned'] = df1.is_churned_after_first_period.apply(lambda k: k == 'Yes')\n",
    "\tdf1['is_promo'] = df1.is_promo_user.apply(lambda k: k == 'Yes')\n",
    "\tdf1['is_paid'] = df1.user_source.apply(lambda k: k == 'paid')\n",
    "\t\n",
    "\t### Create variables for classes each week\n",
    "\tdf1['first_week_classes'] = df1['classes_attended_in_first_7_days']\n",
    "\tdf1['second_week_classes'] = df1['classes_attended_in_first_14_days'] \n",
    "\t- df1['classes_attended_in_first_7_days']\n",
    "\tdf1['third_week_classes'] = df1['classes_attended_in_first_21_days'] \n",
    "\t- df1['classes_attended_in_first_14_days']\n",
    "\n",
    "\t### Create variable for tier 1 classes each week \n",
    "\tdf1['first_week_tier_1_classes']  = df1['tier_1_classes_attended_in_first_7_days']\n",
    "\tdf1['second_week_tier_1_classes'] = df1['tier_1_classes_attended_in_first_14_days'] \n",
    "\t- df1['tier_1_classes_attended_in_first_7_days']\n",
    "\tdf1['third_week_tier_1_classes'] = df1['tier_1_classes_attended_in_first_21_days'] \n",
    "\t- df1['tier_1_classes_attended_in_first_14_days']\n",
    "\n",
    "\t### Drop excess variables \n",
    "\tdf1.drop(['Atlanta', 'user_id', 'msa_id', 'city_name', 'is_churned_after_first_period', \n",
    "\t\t'is_promo_user','user_source', 'classes_attended_in_first_7_days',\n",
    "\t\t'classes_attended_in_first_14_days', 'classes_attended_in_first_21_days', \n",
    "\t\t'tier_1_classes_attended_in_first_7_days', 'tier_1_classes_attended_in_first_14_days',\n",
    "\t\t'tier_1_classes_attended_in_first_21_days'], inplace=True, axis=1)\n",
    "\n",
    "\tfeatures = df1.drop(['is_churned'], axis=1)\n",
    "\tlabels = df1['is_churned']\n",
    "\n",
    "\td = {'feature': features, 'labels': labels}\n",
    "\n",
    "\treturn d, df1\n",
    "\n",
    "def split_data(data):\n",
    "\n",
    "\t(X_train, X_test, y_train, y_test) = cv.train_test_split(data['feature'], data['labels'], test_size=0.2, random_state=0)\n",
    "\treturn X_train, X_test, y_train, y_test\n",
    "\n",
    "def tune_model(x, y):\n",
    "\n",
    "\t#RFC_params = {'max_depth':(10, 20, 50),'n_estimators':[100, 500, 1000], 'max_features':['sqrt', 'log2'], 'n_jobs':[-1]}\n",
    "\t#GBC_params = {'n_estimators':[100,500,1000]}\n",
    "\n",
    "\n",
    "\tLR_params = {'C':(0.01, 0.1, 1)}\n",
    "\tRFC_params = {'max_depth':(5, 10, 50, 100),'n_estimators':[5, 10, 50, 100], 'max_features':['sqrt', 'log2'], 'n_jobs':[-1]}\n",
    "\tGBC_params = {'n_estimators':[100, 500, 1000]}\n",
    "\n",
    "\tmodels = LogisticRegression(), RFC(), GBC()\n",
    "\tparams = LR_params, RFC_params, GBC_params\n",
    "\n",
    "\testimators = list()\n",
    "\t# hyper_params = dict()\n",
    "\n",
    "\tfor m, p in zip(models, params):\n",
    "\t\toptimized = gs.GridSearchCV(m, p, scoring='recall', cv = 3) \n",
    "\t\toptimized.fit(x, y)\n",
    "\t\tprint('\\n==========\\n', optimized)\n",
    "\t\tprint('best params\\n', optimized.best_params_)\n",
    "\t\tprint('best_score\\n', optimized.best_score_)\n",
    "\n",
    "\t\t# hyper_params[key] = optimized.best_score_\n",
    "\t\testimators.append(optimized.best_estimator_)\n",
    "\t\t# print('hyper_params =', hyper_params)\n",
    "\n",
    "\treturn estimators\n",
    "\n",
    "def score_model(x, y, est):\n",
    "\n",
    "\tfor e in est:\n",
    "\n",
    "\t\tcv_results = cv.cross_val_score(e, x, y, cv = N_FOLDS)\n",
    "\t\tcv_scores_roc = cv.cross_val_score(e, x, y, cv = N_FOLDS, scoring='roc_auc')\n",
    "\t\tcv_recall = cv.cross_val_score(e, x, y, cv = N_FOLDS, scoring='recall')\n",
    "\t\tprint('\\n==========\\n', e)\n",
    "\t\tprint('\\ncv results\\n', cv_results)\n",
    "\t\tprint('\\nmean cv accuracy =', cv_results.mean())\n",
    "\t\tprint('std cv accuracy = ', cv_results.std())\n",
    "\t\tprint('\\ncv scores ROC\\n', cv_scores_roc)\n",
    "\t\tprint('\\nmean cv ROC =', cv_scores_roc.mean())\n",
    "\t\tprint('std cv ROC =', cv_scores_roc.std())\n",
    "\t\tprint('\\ncv scores Recall\\n', cv_recall)\n",
    "\t\tprint('\\nmean cv Recall =', cv_recall.mean())\n",
    "\t\tprint('std cv Recall =', cv_recall.std())\n",
    "\n",
    "def fit_model(x, y, est):\n",
    "\n",
    "\tfeatures_names = list(x.columns.values)\n",
    "\n",
    "\tfor e in est[1:]:\n",
    "\t\te.fit(x,y)\n",
    "\t\tfeature_impt = e.feature_importances_\n",
    "\t\tprint('\\n==========\\n', e)\n",
    "\t\tprint('\\nfeature importnace')\n",
    "\t\tprint('\\nfeature               importance')\n",
    "\t\tfor i in range(x.shape[1]):\n",
    "\t\t\tprint(features_names[i],'               ',feature_impt[i])"
   ]
  }
 ],
 "metadata": {
  "celltoolbar": "Raw Cell Format",
  "kernelspec": {
   "display_name": "Python 3",
   "language": "python",
   "name": "python3"
  },
  "language_info": {
   "codemirror_mode": {
    "name": "ipython",
    "version": 3
   },
   "file_extension": ".py",
   "mimetype": "text/x-python",
   "name": "python",
   "nbconvert_exporter": "python",
   "pygments_lexer": "ipython3",
   "version": "3.4.3"
  }
 },
 "nbformat": 4,
 "nbformat_minor": 0
}
